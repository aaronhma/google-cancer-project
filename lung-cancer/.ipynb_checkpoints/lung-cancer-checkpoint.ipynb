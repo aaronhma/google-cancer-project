{
 "cells": [
  {
   "cell_type": "markdown",
   "metadata": {},
   "source": [
    "# &copy; Copyright 2018 Aaron Ma. All Rights Reserved. #"
   ]
  },
  {
   "cell_type": "markdown",
   "metadata": {},
   "source": [
    "## LUNA16 Has Not Allowed Me To Share The Data And Code So I Can Oly Share The Final Result:"
   ]
  },
  {
   "cell_type": "markdown",
   "metadata": {},
   "source": [
    "![Lung Cancer Final Result Image Has Failed To Load! Reload? Try Again?](https://cdn-images-1.medium.com/max/2000/1*CiBR9E0U71LmO8mWWdPr3w.png)"
   ]
  },
  {
   "cell_type": "markdown",
   "metadata": {},
   "source": [
    "# © Copyright 2018 Aaron Ma. All Rights Reserved. #"
   ]
  }
 ],
 "metadata": {
  "kernelspec": {
   "display_name": "Python 3",
   "language": "python",
   "name": "python3"
  },
  "language_info": {
   "codemirror_mode": {
    "name": "ipython",
    "version": 3
   },
   "file_extension": ".py",
   "mimetype": "text/x-python",
   "name": "python",
   "nbconvert_exporter": "python",
   "pygments_lexer": "ipython3",
   "version": "3.6.6"
  }
 },
 "nbformat": 4,
 "nbformat_minor": 2
}
